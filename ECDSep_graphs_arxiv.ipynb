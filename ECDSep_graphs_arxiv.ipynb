{
  "cells": [
    {
      "cell_type": "markdown",
      "metadata": {
        "id": "view-in-github",
        "colab_type": "text"
      },
      "source": [
        "<a href=\"https://colab.research.google.com/github/gbdl/ECDSep/blob/main/ECDSep_graphs_arxiv.ipynb\" target=\"_parent\"><img src=\"https://colab.research.google.com/assets/colab-badge.svg\" alt=\"Open In Colab\"/></a>"
      ]
    },
    {
      "cell_type": "markdown",
      "source": [
        "# Code to reproduce the experiments performed on the dataset `ogbn-arxiv`"
      ],
      "metadata": {
        "id": "OPcBVo4lDsUL"
      }
    },
    {
      "cell_type": "code",
      "source": [
        "import torch\n",
        "\n",
        "def format_pytorch_version(version):\n",
        "    return version.split('+')[0]\n",
        "\n",
        "def format_cuda_version(version):\n",
        "    return 'cu' + version.replace('.', '')\n",
        "\n",
        "TORCH_version = torch.__version__\n",
        "TORCH = '2.0.0'#format_pytorch_version(TORCH_version)\n",
        "CUDA_version = torch.version.cuda\n",
        "CUDA = format_cuda_version(CUDA_version)\n",
        "\n",
        "!pip install pyg-lib torch-scatter torch-sparse torch-cluster torch-spline-conv torch-geometric -f https://data.pyg.org/whl/torch-{TORCH}+{CUDA}.html;\n",
        "!pip install ogb;"
      ],
      "metadata": {
        "id": "rNdYzMagDmn3"
      },
      "execution_count": null,
      "outputs": []
    },
    {
      "cell_type": "code",
      "execution_count": null,
      "metadata": {
        "id": "fa9Sk6xjewd4"
      },
      "outputs": [],
      "source": [
        "import argparse\n",
        "import sys\n",
        "sys.path.append(\"..\")\n",
        "\n",
        "import torch\n",
        "import torch.nn.functional as F\n",
        "\n",
        "import torch_geometric.transforms as T\n",
        "from torch_geometric.nn import GCNConv, SAGEConv\n",
        "\n",
        "from ogb.nodeproppred import PygNodePropPredDataset, Evaluator\n",
        "\n",
        "from inflation import ECDSep\n",
        "\n",
        "import random\n",
        "import numpy as np"
      ]
    },
    {
      "cell_type": "markdown",
      "source": [
        "## Dataset, useful functions and model, all from ogbn-arxiv. We also set some parameters as in the OGB paper."
      ],
      "metadata": {
        "id": "ova2lRWBCugT"
      }
    },
    {
      "cell_type": "code",
      "execution_count": null,
      "metadata": {
        "id": "9SgvR_KsVNsl"
      },
      "outputs": [],
      "source": [
        "class GCN(torch.nn.Module):\n",
        "    def __init__(self, in_channels, hidden_channels, out_channels, num_layers,\n",
        "                 dropout):\n",
        "        super(GCN, self).__init__()\n",
        "\n",
        "        self.convs = torch.nn.ModuleList()\n",
        "        self.convs.append(GCNConv(in_channels, hidden_channels, cached=True))\n",
        "        self.bns = torch.nn.ModuleList()\n",
        "        self.bns.append(torch.nn.BatchNorm1d(hidden_channels))\n",
        "        for _ in range(num_layers - 2):\n",
        "            self.convs.append(\n",
        "                GCNConv(hidden_channels, hidden_channels, cached=True))\n",
        "            self.bns.append(torch.nn.BatchNorm1d(hidden_channels))\n",
        "        self.convs.append(GCNConv(hidden_channels, out_channels, cached=True))\n",
        "\n",
        "        self.dropout = dropout\n",
        "\n",
        "    def reset_parameters(self):\n",
        "        for conv in self.convs:\n",
        "            conv.reset_parameters()\n",
        "        for bn in self.bns:\n",
        "            bn.reset_parameters()\n",
        "\n",
        "    def forward(self, x, adj_t):\n",
        "        for i, conv in enumerate(self.convs[:-1]):\n",
        "            x = conv(x, adj_t)\n",
        "            x = self.bns[i](x)\n",
        "            x = F.relu(x)\n",
        "            x = F.dropout(x, p=self.dropout, training=self.training)\n",
        "        x = self.convs[-1](x, adj_t)\n",
        "        return x.log_softmax(dim=-1)\n",
        "\n",
        "\n",
        "class SAGE(torch.nn.Module):\n",
        "    def __init__(self, in_channels, hidden_channels, out_channels, num_layers,\n",
        "                 dropout):\n",
        "        super(SAGE, self).__init__()\n",
        "\n",
        "        self.convs = torch.nn.ModuleList()\n",
        "        self.convs.append(SAGEConv(in_channels, hidden_channels))\n",
        "        self.bns = torch.nn.ModuleList()\n",
        "        self.bns.append(torch.nn.BatchNorm1d(hidden_channels))\n",
        "        for _ in range(num_layers - 2):\n",
        "            self.convs.append(SAGEConv(hidden_channels, hidden_channels))\n",
        "            self.bns.append(torch.nn.BatchNorm1d(hidden_channels))\n",
        "        self.convs.append(SAGEConv(hidden_channels, out_channels))\n",
        "\n",
        "        self.dropout = dropout\n",
        "\n",
        "    def reset_parameters(self):\n",
        "        for conv in self.convs:\n",
        "            conv.reset_parameters()\n",
        "        for bn in self.bns:\n",
        "            bn.reset_parameters()\n",
        "\n",
        "    def forward(self, x, adj_t):\n",
        "        for i, conv in enumerate(self.convs[:-1]):\n",
        "            x = conv(x, adj_t)\n",
        "            x = self.bns[i](x)\n",
        "            x = F.relu(x)\n",
        "            x = F.dropout(x, p=self.dropout, training=self.training)\n",
        "        x = self.convs[-1](x, adj_t)\n",
        "        return x.log_softmax(dim=-1)\n",
        "\n",
        "\n",
        "def train(model, data, train_idx, optimizer):\n",
        "    model.train()\n",
        "\n",
        "    optimizer.zero_grad()\n",
        "    out = model(data.x, data.adj_t)[train_idx]\n",
        "    loss = F.nll_loss(out, data.y.squeeze(1)[train_idx])\n",
        "    loss.backward()\n",
        "    def closure():\n",
        "        return loss\n",
        "    optimizer.step(closure)\n",
        "    return loss.item()\n",
        "\n",
        "\n",
        "@torch.no_grad()\n",
        "def test(model, data, split_idx, evaluator):\n",
        "    model.eval()\n",
        "\n",
        "    out = model(data.x, data.adj_t)\n",
        "    y_pred = out.argmax(dim=-1, keepdim=True)\n",
        "\n",
        "    train_acc = evaluator.eval({\n",
        "        'y_true': data.y[split_idx['train']],\n",
        "        'y_pred': y_pred[split_idx['train']],\n",
        "    })['acc']\n",
        "    valid_acc = evaluator.eval({\n",
        "        'y_true': data.y[split_idx['valid']],\n",
        "        'y_pred': y_pred[split_idx['valid']],\n",
        "    })['acc']\n",
        "    test_acc = evaluator.eval({\n",
        "        'y_true': data.y[split_idx['test']],\n",
        "        'y_pred': y_pred[split_idx['test']],\n",
        "    })['acc']\n",
        "\n",
        "    return train_acc, valid_acc, test_acc"
      ]
    },
    {
      "cell_type": "code",
      "execution_count": null,
      "metadata": {
        "id": "SZr0njYde1or"
      },
      "outputs": [],
      "source": [
        "device = 0\n",
        "log_steps = 1\n",
        "use_sage = True\n",
        "num_layers = 3\n",
        "hidden_channels = 256\n",
        "dropout = 0.5\n",
        "epochs = 500"
      ]
    },
    {
      "cell_type": "code",
      "execution_count": null,
      "metadata": {
        "id": "GEHKGFnae3Yj"
      },
      "outputs": [],
      "source": [
        "device = f'cuda:{device}' if torch.cuda.is_available() else 'cpu'\n",
        "device = torch.device(device)\n",
        "\n",
        "dataset = PygNodePropPredDataset(name='ogbn-arxiv',\n",
        "                                 transform=T.ToSparseTensor())\n",
        "\n",
        "data = dataset[0]\n",
        "data.adj_t = data.adj_t.to_symmetric()\n",
        "data = data.to(device)\n",
        "\n",
        "split_idx = dataset.get_idx_split()\n",
        "train_idx = split_idx['train'].to(device)\n",
        "\n",
        "evaluator = Evaluator(name='ogbn-arxiv')"
      ]
    },
    {
      "cell_type": "code",
      "execution_count": null,
      "metadata": {
        "id": "-gzKExFZvNc5"
      },
      "outputs": [],
      "source": [
        "if use_sage:\n",
        "  model = SAGE(data.num_features, hidden_channels,\n",
        "                dataset.num_classes, num_layers,\n",
        "                dropout).to(device)\n",
        "else:\n",
        "  model = GCN(data.num_features, hidden_channels,\n",
        "              dataset.num_classes, num_layers,\n",
        "              dropout).to(device)\n",
        "print('Number of parameters:', sum(p.numel() for p in model.parameters()))"
      ]
    },
    {
      "cell_type": "markdown",
      "source": [
        "## Experiments\n",
        "`opt` is the optimizer chosen for the experiments (among \"ECDSep\", \"sgd\", \"adam\", \"adamw\"). Remember to change the name of the optimizer and the hyperparameters in the first few lines of the next cell."
      ],
      "metadata": {
        "id": "exseIb02DTeh"
      }
    },
    {
      "cell_type": "code",
      "execution_count": null,
      "metadata": {
        "id": "9Rt-EbEYf-hj"
      },
      "outputs": [],
      "source": [
        "runs = 10\n",
        "\n",
        "opt = \"ECDSep\"\n",
        "lr = 2.8\n",
        "eta = 4.5\n",
        "nu = 1e-5\n",
        "wd = 0.\n",
        "momentum = 0.95\n",
        "\n",
        "best_losses, best_accuracies = [], []\n",
        "for run in range(runs):\n",
        "  seed = np.random.randint(100000000)\n",
        "  torch.manual_seed(seed)\n",
        "  random.seed(seed)\n",
        "  torch.cuda.manual_seed(seed)\n",
        "\n",
        "\n",
        "  model.reset_parameters()\n",
        "\n",
        "  if opt == \"sgd\":\n",
        "    optimizer = torch.optim.SGD(model.parameters(), lr=lr, momentum=momentum, weight_decay=wd)\n",
        "\n",
        "  elif opt == \"adam\":\n",
        "    optimizer = torch.optim.Adam(model.parameters(), lr=lr, weight_decay=wd)\n",
        "\n",
        "  elif opt == \"adamw\":\n",
        "    optimizer = torch.optim.AdamW(model.parameters(), lr=lr, weight_decay=wd)\n",
        "\n",
        "  elif opt == \"ECDSep\":\n",
        "    consEn = True\n",
        "    deltaEn = 0.\n",
        "    s = 1\n",
        "    F0 = 0.\n",
        "    optimizer = ECDSep(model.parameters(), lr=lr, eta=eta, nu=nu, s=s, deltaEn=deltaEn, consEn=consEn, F0=F0, weight_decay=wd)\n",
        "\n",
        "  best_loss = 1e+10\n",
        "  best_accuracy = 0.\n",
        "  \n",
        "  for epoch in range(1, 1 + epochs):\n",
        "      loss = train(model, data, train_idx, optimizer)\n",
        "      result = test(model, data, split_idx, evaluator)\n",
        "      if loss < best_loss:\n",
        "          best_loss = loss\n",
        "\n",
        "      if epoch % log_steps == 0:\n",
        "          train_acc, valid_acc, test_acc = result\n",
        "          print(f'Run: {run + 1:02d}, '\n",
        "                f'Epoch: {epoch:02d}, '\n",
        "                f'Loss: {loss:.4f}, '\n",
        "                f'Train: {100 * train_acc:.2f}%, '\n",
        "                f'Valid: {100 * valid_acc:.2f}% '\n",
        "                f'Test: {100 * test_acc:.2f}%')\n",
        "          if test_acc > best_accuracy:\n",
        "              best_accuracy = test_acc\n",
        "  best_losses.append(best_loss)\n",
        "  best_accuracies.append(best_accuracy)"
      ]
    },
    {
      "cell_type": "code",
      "source": [
        "print(\"Average best accuracy for \"+opt+\" over \"+str(runs)+\" runs is \", np.mean(best_accuracies))\n",
        "print(\"Average minimum loss for \"+opt+\" over \"+str(runs)+\" runs is \", np.mean(best_losses))"
      ],
      "metadata": {
        "id": "4MwZZxWUZR-f"
      },
      "execution_count": null,
      "outputs": []
    },
    {
      "cell_type": "code",
      "source": [],
      "metadata": {
        "id": "rbJoFBQAcMWe"
      },
      "execution_count": null,
      "outputs": []
    }
  ],
  "metadata": {
    "accelerator": "GPU",
    "colab": {
      "provenance": [],
      "authorship_tag": "ABX9TyPhOcmfLFDLy/fMwjTfJ7ft",
      "include_colab_link": true
    },
    "gpuClass": "standard",
    "kernelspec": {
      "display_name": "Python 3",
      "name": "python3"
    },
    "language_info": {
      "name": "python"
    }
  },
  "nbformat": 4,
  "nbformat_minor": 0
}