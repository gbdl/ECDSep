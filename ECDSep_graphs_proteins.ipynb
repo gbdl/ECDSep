{
  "cells": [
    {
      "cell_type": "markdown",
      "metadata": {
        "id": "view-in-github",
        "colab_type": "text"
      },
      "source": [
        "<a href=\"https://colab.research.google.com/github/gbdl/ECDSep/blob/main/ECDSep_graphs_proteins.ipynb\" target=\"_parent\"><img src=\"https://colab.research.google.com/assets/colab-badge.svg\" alt=\"Open In Colab\"/></a>"
      ]
    },
    {
      "cell_type": "markdown",
      "source": [
        "# Code to reproduce the experiments performed on the dataset `ogbn-proteins`"
      ],
      "metadata": {
        "id": "7D_uLuCDGbwK"
      }
    },
    {
      "cell_type": "code",
      "source": [
        "import torch\n",
        "\n",
        "def format_pytorch_version(version):\n",
        "    return version.split('+')[0]\n",
        "\n",
        "def format_cuda_version(version):\n",
        "    return 'cu' + version.replace('.', '')\n",
        "\n",
        "TORCH_version = torch.__version__\n",
        "TORCH = '2.0.0'#format_pytorch_version(TORCH_version)\n",
        "CUDA_version = torch.version.cuda\n",
        "CUDA = format_cuda_version(CUDA_version)\n",
        "\n",
        "!pip install pyg-lib torch-scatter torch-sparse torch-cluster torch-spline-conv torch-geometric -f https://data.pyg.org/whl/torch-{TORCH}+{CUDA}.html;\n",
        "!pip install ogb;"
      ],
      "metadata": {
        "id": "85IcDeWaGWx0"
      },
      "execution_count": null,
      "outputs": []
    },
    {
      "cell_type": "code",
      "execution_count": null,
      "metadata": {
        "id": "qFKWyM2BmzBJ"
      },
      "outputs": [],
      "source": [
        "import sys\n",
        "sys.path.append(\"..\")\n",
        "\n",
        "import argparse\n",
        "\n",
        "import torch.nn.functional as F\n",
        "\n",
        "import torch_geometric.transforms as T\n",
        "from torch_geometric.nn import GCNConv, SAGEConv\n",
        "\n",
        "from ogb.nodeproppred import PygNodePropPredDataset, Evaluator\n",
        "\n",
        "from inflation import ECDSep\n",
        "\n",
        "import numpy as np\n",
        "import random"
      ]
    },
    {
      "cell_type": "markdown",
      "source": [
        "## Dataset, useful functions and model, all from ogbn-proteins. We also set some parameters as in the OGB paper."
      ],
      "metadata": {
        "id": "7X0PazrRI7-j"
      }
    },
    {
      "cell_type": "code",
      "execution_count": null,
      "metadata": {
        "id": "ADtak3KBm0MP"
      },
      "outputs": [],
      "source": [
        "class GCN(torch.nn.Module):\n",
        "    def __init__(self, in_channels, hidden_channels, out_channels, num_layers,\n",
        "                 dropout):\n",
        "        super(GCN, self).__init__()\n",
        "\n",
        "        self.convs = torch.nn.ModuleList()\n",
        "        self.convs.append(\n",
        "            GCNConv(in_channels, hidden_channels, normalize=False))\n",
        "        for _ in range(num_layers - 2):\n",
        "            self.convs.append(\n",
        "                GCNConv(hidden_channels, hidden_channels, normalize=False))\n",
        "        self.convs.append(\n",
        "            GCNConv(hidden_channels, out_channels, normalize=False))\n",
        "\n",
        "        self.dropout = dropout\n",
        "\n",
        "    def reset_parameters(self):\n",
        "        for conv in self.convs:\n",
        "            conv.reset_parameters()\n",
        "\n",
        "    def forward(self, x, adj_t):\n",
        "        for conv in self.convs[:-1]:\n",
        "            x = conv(x, adj_t)\n",
        "            x = F.relu(x)\n",
        "            x = F.dropout(x, p=self.dropout, training=self.training)\n",
        "        x = self.convs[-1](x, adj_t)\n",
        "        return x\n",
        "\n",
        "\n",
        "class SAGE(torch.nn.Module):\n",
        "    def __init__(self, in_channels, hidden_channels, out_channels, num_layers,\n",
        "                 dropout):\n",
        "        super(SAGE, self).__init__()\n",
        "\n",
        "        self.convs = torch.nn.ModuleList()\n",
        "        self.convs.append(SAGEConv(in_channels, hidden_channels))\n",
        "        for _ in range(num_layers - 2):\n",
        "            self.convs.append(SAGEConv(hidden_channels, hidden_channels))\n",
        "        self.convs.append(SAGEConv(hidden_channels, out_channels))\n",
        "\n",
        "        self.dropout = dropout\n",
        "\n",
        "    def reset_parameters(self):\n",
        "        for conv in self.convs:\n",
        "            conv.reset_parameters()\n",
        "\n",
        "    def forward(self, x, adj_t):\n",
        "        for conv in self.convs[:-1]:\n",
        "            x = conv(x, adj_t)\n",
        "            x = F.relu(x)\n",
        "            x = F.dropout(x, p=self.dropout, training=self.training)\n",
        "        x = self.convs[-1](x, adj_t)\n",
        "        return x\n",
        "\n",
        "\n",
        "def train(model, data, train_idx, optimizer, optimizer_string):\n",
        "    model.train()\n",
        "    criterion = torch.nn.BCEWithLogitsLoss()\n",
        "\n",
        "    optimizer.zero_grad()\n",
        "    out = model(data.x, data.adj_t)[train_idx]\n",
        "    loss = criterion(out, data.y[train_idx].to(torch.float))\n",
        "    loss.backward()\n",
        "    if optimizer_string is not None:\n",
        "      def closure():\n",
        "        return loss\n",
        "      optimizer.step(closure)\n",
        "    else:\n",
        "      optimizer.step()\n",
        "    return loss.item()\n",
        "\n",
        "\n",
        "@torch.no_grad()\n",
        "def test(model, data, split_idx, evaluator):\n",
        "    model.eval()\n",
        "\n",
        "    y_pred = model(data.x, data.adj_t)\n",
        "\n",
        "    train_rocauc = evaluator.eval({\n",
        "        'y_true': data.y[split_idx['train']],\n",
        "        'y_pred': y_pred[split_idx['train']],\n",
        "    })['rocauc']\n",
        "    #valid_rocauc = evaluator.eval({\n",
        "    #    'y_true': data.y[split_idx['valid']],\n",
        "    #    'y_pred': y_pred[split_idx['valid']],\n",
        "    #})['rocauc']\n",
        "    test_rocauc = evaluator.eval({\n",
        "        'y_true': data.y[split_idx['test']],\n",
        "        'y_pred': y_pred[split_idx['test']],\n",
        "    })['rocauc']\n",
        "\n",
        "    return train_rocauc, test_rocauc #valid_rocauc,"
      ]
    },
    {
      "cell_type": "code",
      "execution_count": null,
      "metadata": {
        "id": "sC_PrKfGm2Xo"
      },
      "outputs": [],
      "source": [
        "dev = 0 \n",
        "device = f'cuda:{dev}' if torch.cuda.is_available() else 'cpu'\n",
        "device = torch.device(device)\n",
        "\n",
        "dataset = PygNodePropPredDataset(\n",
        "    name='ogbn-proteins', transform=T.ToSparseTensor(attr='edge_attr'))\n",
        "data = dataset[0]\n",
        "\n",
        "# Move edge features to node features.\n",
        "data.x = data.adj_t.mean(dim=1)\n",
        "data.adj_t.set_value_(None)\n",
        "\n",
        "split_idx = dataset.get_idx_split()\n",
        "train_idx = split_idx['train'].to(device)"
      ]
    },
    {
      "cell_type": "code",
      "execution_count": null,
      "metadata": {
        "id": "DCXLUc-5YEMo"
      },
      "outputs": [],
      "source": [
        "use_sage = True\n",
        "hidden_channels = 256\n",
        "num_layers = 3\n",
        "dropout = 0\n",
        "epochs = 1000\n",
        "eval_steps = 5 \n",
        "log_steps = 1"
      ]
    },
    {
      "cell_type": "code",
      "source": [
        "if use_sage:\n",
        "    model = SAGE(data.num_features, hidden_channels, 112,\n",
        "                  num_layers, dropout).to(device)\n",
        "else:\n",
        "    model = GCN(data.num_features, hidden_channels, 112,\n",
        "                num_layers, dropout).to(device)\n",
        "\n",
        "    # Pre-compute GCN normalization.\n",
        "    adj_t = data.adj_t.set_diag()\n",
        "    deg = adj_t.sum(dim=1).to(torch.float)\n",
        "    deg_inv_sqrt = deg.pow(-0.5)\n",
        "    deg_inv_sqrt[deg_inv_sqrt == float('inf')] = 0\n",
        "    adj_t = deg_inv_sqrt.view(-1, 1) * adj_t * deg_inv_sqrt.view(1, -1)\n",
        "    data.adj_t = adj_t\n",
        "\n",
        "data = data.to(device)\n",
        "\n",
        "evaluator = Evaluator(name='ogbn-proteins')"
      ],
      "metadata": {
        "id": "pVlDXfvlHOd1"
      },
      "execution_count": null,
      "outputs": []
    },
    {
      "cell_type": "markdown",
      "source": [
        "## Experiments\n",
        "`opt` is the optimizer chosen for the experiments (among \"ECDSep\", \"sgd\", \"adam\", \"adamw\"). Remember to change the name of the optimizer and the hyperparameters in the first few lines of the next cell."
      ],
      "metadata": {
        "id": "_PofxE3PJCzX"
      }
    },
    {
      "cell_type": "code",
      "execution_count": null,
      "metadata": {
        "id": "ziJ9Zs3i8JEr"
      },
      "outputs": [],
      "source": [
        "opt = \"ECDSep\"\n",
        "runs = 5\n",
        "\n",
        "lr = 1.8\n",
        "eta = 5.\n",
        "nu = 1e-5\n",
        "wd = 0.\n",
        "momentum = 0.999\n",
        "\n",
        "best_losses, best_accuracies = [], []\n",
        "for run in range(runs):\n",
        "  seed = np.random.randint(100000000)\n",
        "  torch.manual_seed(seed)\n",
        "  random.seed(seed)\n",
        "  torch.cuda.manual_seed(seed)\n",
        "\n",
        "  model.reset_parameters()\n",
        "\n",
        "  if opt == \"sgd\":\n",
        "    optimizer = torch.optim.SGD(model.parameters(), lr=lr, momentum=momentum, weight_decay=wd)\n",
        "\n",
        "  elif opt == \"adam\":\n",
        "    optimizer = torch.optim.Adam(model.parameters(), lr=lr, weight_decay=wd)\n",
        "\n",
        "  elif opt == \"adamw\":\n",
        "    optimizer = torch.optim.AdamW(model.parameters(), lr=lr, weight_decay=wd)\n",
        "\n",
        "  elif opt == \"ECDSep\":\n",
        "    s = 1\n",
        "    deltaEn = 0\n",
        "    consEn = True\n",
        "    F0 = 0\n",
        "    optimizer = ECDSep(model.parameters(), lr=lr, eta=eta, nu=nu, s=s, deltaEn=deltaEn, consEn=consEn, F0=F0, weight_decay=wd)\n",
        "\n",
        "  for epoch in range(1, 1 + epochs):\n",
        "    loss = train(model, data, train_idx, optimizer, opt)\n",
        "    if epoch == 1:\n",
        "      best_loss = loss\n",
        "    else:\n",
        "      if loss < best_loss:\n",
        "        best_loss=loss\n",
        "    if epoch % eval_steps == 0:\n",
        "        result = test(model, data, split_idx, evaluator)\n",
        "        train_rocauc, test_rocauc = result\n",
        "        print(f'Run: {run + 1:02d}, '\n",
        "              f'Epoch: {epoch:02d}, '\n",
        "              f'Loss: {loss:.4f}, '\n",
        "              f'Train: {100 * train_rocauc:.2f}%, '\n",
        "              #f'Valid: {100 * valid_rocauc:.2f}% '\n",
        "              f'Test: {100 * test_rocauc:.2f}%')\n",
        "        if epoch == eval_steps:\n",
        "          best_test_accuracy = test_rocauc\n",
        "        else:\n",
        "          if test_rocauc > best_test_accuracy:\n",
        "            best_test_accuracy = test_rocauc\n",
        "  best_losses.append(best_loss)\n",
        "  best_accuracies.append(best_test_accuracy)"
      ]
    },
    {
      "cell_type": "code",
      "source": [
        "print(\"Average best accuracy for \"+opt+\" over \"+str(runs)+\" runs is \", np.mean(best_accuracies))\n",
        "print(\"Average minimum loss for \"+opt+\" over \"+str(runs)+\" runs is \", np.mean(best_losses))"
      ],
      "metadata": {
        "id": "xh7G3VVal7Cz"
      },
      "execution_count": null,
      "outputs": []
    },
    {
      "cell_type": "code",
      "source": [],
      "metadata": {
        "id": "sZnk4U3li8yh"
      },
      "execution_count": null,
      "outputs": []
    }
  ],
  "metadata": {
    "accelerator": "GPU",
    "colab": {
      "provenance": [],
      "include_colab_link": true
    },
    "gpuClass": "standard",
    "kernelspec": {
      "display_name": "Python 3",
      "name": "python3"
    },
    "language_info": {
      "name": "python"
    }
  },
  "nbformat": 4,
  "nbformat_minor": 0
}